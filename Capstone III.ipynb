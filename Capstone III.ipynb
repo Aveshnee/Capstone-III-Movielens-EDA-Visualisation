{
 "cells": [
  {
   "cell_type": "markdown",
   "metadata": {},
   "source": [
    "# DS L2T18\n",
    "# Capstone III Movielens Exploratory Data Analysis"
   ]
  },
  {
   "cell_type": "markdown",
   "metadata": {},
   "source": [
    "# 1. Introduction"
   ]
  },
  {
   "cell_type": "raw",
   "metadata": {},
   "source": [
    "Conduct an Exploratory Data Analysis (EDA) on the MovieLens dataset to get insights, clean the data and answer some questions.  The data needs to be joined as it is in 3 different files and then analysed.\n",
    "\n",
    "Approach:\n",
    "• Finding patterns in data.\n",
    "• Determining relationships in data.\n",
    "• Checking of assumptions.\n",
    "• Drawing conclusions.\n",
    "\n",
    "What question(s) are you trying to solve (or prove wrong):\n",
    "\n",
    "1.Determine user rating for a single movie or determine performance between sequels?\n",
    "2.Understand viewership by age group for targeted marketing, retention activities or market expansion?\n",
    "3.Insight to the top 25 movies by viewership rating?\n",
    "4.Identify ratings at a user level for recommendations?\n",
    "\n",
    "Refer to the EDA Report (in MS Word)."
   ]
  },
  {
   "cell_type": "markdown",
   "metadata": {},
   "source": [
    "# 2. Data Cleaning"
   ]
  },
  {
   "cell_type": "raw",
   "metadata": {},
   "source": [
    "The 3 data files were merged using MovieID and UserID as primary keys.\n",
    "- movies.dat\n",
    "- ratings.dat\n",
    "- users.dat"
   ]
  },
  {
   "cell_type": "code",
   "execution_count": 23,
   "metadata": {},
   "outputs": [],
   "source": [
    "# Import packages for calcs & visualisations\n",
    "import numpy as np\n",
    "import pandas as pd\n",
    "\n",
    "import category_encoders as ce\n",
    "\n",
    "# Data visualization\n",
    "import seaborn as sns\n",
    "import missingno\n",
    "import matplotlib.pyplot as plt\n",
    "%matplotlib inline\n",
    "\n",
    "import warnings\n",
    "warnings.filterwarnings('ignore')"
   ]
  },
  {
   "cell_type": "code",
   "execution_count": 24,
   "metadata": {},
   "outputs": [],
   "source": [
    "# Load the data\n",
    "movies = pd.read_csv('movies.dat', sep=\"::\" , header=None, names=[\"MovieID\",\"Title\",\"Genres\"],engine='python')\n",
    "ratings = pd.read_csv(\"ratings.dat.zip\" , sep='::', header=None, names =['UserID','MovieID','Rating','Timestamp'] , engine='python')\n",
    "users = pd.read_csv(\"users.dat\", sep='::' , header=None, names =['UserID','Gender','Age','Occupation','Zip-code'] , engine='python')"
   ]
  },
  {
   "cell_type": "code",
   "execution_count": 25,
   "metadata": {},
   "outputs": [
    {
     "data": {
      "text/html": [
       "<div>\n",
       "<style scoped>\n",
       "    .dataframe tbody tr th:only-of-type {\n",
       "        vertical-align: middle;\n",
       "    }\n",
       "\n",
       "    .dataframe tbody tr th {\n",
       "        vertical-align: top;\n",
       "    }\n",
       "\n",
       "    .dataframe thead th {\n",
       "        text-align: right;\n",
       "    }\n",
       "</style>\n",
       "<table border=\"1\" class=\"dataframe\">\n",
       "  <thead>\n",
       "    <tr style=\"text-align: right;\">\n",
       "      <th></th>\n",
       "      <th>MovieID</th>\n",
       "      <th>Title</th>\n",
       "      <th>Genres</th>\n",
       "      <th>UserID</th>\n",
       "      <th>Rating</th>\n",
       "      <th>Timestamp</th>\n",
       "      <th>Gender</th>\n",
       "      <th>Age</th>\n",
       "      <th>Occupation</th>\n",
       "      <th>Zip-code</th>\n",
       "    </tr>\n",
       "  </thead>\n",
       "  <tbody>\n",
       "    <tr>\n",
       "      <th>0</th>\n",
       "      <td>1</td>\n",
       "      <td>Toy Story (1995)</td>\n",
       "      <td>Animation|Children's|Comedy</td>\n",
       "      <td>1</td>\n",
       "      <td>5</td>\n",
       "      <td>978824268</td>\n",
       "      <td>F</td>\n",
       "      <td>1</td>\n",
       "      <td>10</td>\n",
       "      <td>48067</td>\n",
       "    </tr>\n",
       "    <tr>\n",
       "      <th>1</th>\n",
       "      <td>48</td>\n",
       "      <td>Pocahontas (1995)</td>\n",
       "      <td>Animation|Children's|Musical|Romance</td>\n",
       "      <td>1</td>\n",
       "      <td>5</td>\n",
       "      <td>978824351</td>\n",
       "      <td>F</td>\n",
       "      <td>1</td>\n",
       "      <td>10</td>\n",
       "      <td>48067</td>\n",
       "    </tr>\n",
       "    <tr>\n",
       "      <th>2</th>\n",
       "      <td>150</td>\n",
       "      <td>Apollo 13 (1995)</td>\n",
       "      <td>Drama</td>\n",
       "      <td>1</td>\n",
       "      <td>5</td>\n",
       "      <td>978301777</td>\n",
       "      <td>F</td>\n",
       "      <td>1</td>\n",
       "      <td>10</td>\n",
       "      <td>48067</td>\n",
       "    </tr>\n",
       "    <tr>\n",
       "      <th>3</th>\n",
       "      <td>260</td>\n",
       "      <td>Star Wars: Episode IV - A New Hope (1977)</td>\n",
       "      <td>Action|Adventure|Fantasy|Sci-Fi</td>\n",
       "      <td>1</td>\n",
       "      <td>4</td>\n",
       "      <td>978300760</td>\n",
       "      <td>F</td>\n",
       "      <td>1</td>\n",
       "      <td>10</td>\n",
       "      <td>48067</td>\n",
       "    </tr>\n",
       "    <tr>\n",
       "      <th>4</th>\n",
       "      <td>527</td>\n",
       "      <td>Schindler's List (1993)</td>\n",
       "      <td>Drama|War</td>\n",
       "      <td>1</td>\n",
       "      <td>5</td>\n",
       "      <td>978824195</td>\n",
       "      <td>F</td>\n",
       "      <td>1</td>\n",
       "      <td>10</td>\n",
       "      <td>48067</td>\n",
       "    </tr>\n",
       "    <tr>\n",
       "      <th>5</th>\n",
       "      <td>531</td>\n",
       "      <td>Secret Garden, The (1993)</td>\n",
       "      <td>Children's|Drama</td>\n",
       "      <td>1</td>\n",
       "      <td>4</td>\n",
       "      <td>978302149</td>\n",
       "      <td>F</td>\n",
       "      <td>1</td>\n",
       "      <td>10</td>\n",
       "      <td>48067</td>\n",
       "    </tr>\n",
       "    <tr>\n",
       "      <th>6</th>\n",
       "      <td>588</td>\n",
       "      <td>Aladdin (1992)</td>\n",
       "      <td>Animation|Children's|Comedy|Musical</td>\n",
       "      <td>1</td>\n",
       "      <td>4</td>\n",
       "      <td>978824268</td>\n",
       "      <td>F</td>\n",
       "      <td>1</td>\n",
       "      <td>10</td>\n",
       "      <td>48067</td>\n",
       "    </tr>\n",
       "    <tr>\n",
       "      <th>7</th>\n",
       "      <td>594</td>\n",
       "      <td>Snow White and the Seven Dwarfs (1937)</td>\n",
       "      <td>Animation|Children's|Musical</td>\n",
       "      <td>1</td>\n",
       "      <td>4</td>\n",
       "      <td>978302268</td>\n",
       "      <td>F</td>\n",
       "      <td>1</td>\n",
       "      <td>10</td>\n",
       "      <td>48067</td>\n",
       "    </tr>\n",
       "    <tr>\n",
       "      <th>8</th>\n",
       "      <td>595</td>\n",
       "      <td>Beauty and the Beast (1991)</td>\n",
       "      <td>Animation|Children's|Musical</td>\n",
       "      <td>1</td>\n",
       "      <td>5</td>\n",
       "      <td>978824268</td>\n",
       "      <td>F</td>\n",
       "      <td>1</td>\n",
       "      <td>10</td>\n",
       "      <td>48067</td>\n",
       "    </tr>\n",
       "    <tr>\n",
       "      <th>9</th>\n",
       "      <td>608</td>\n",
       "      <td>Fargo (1996)</td>\n",
       "      <td>Crime|Drama|Thriller</td>\n",
       "      <td>1</td>\n",
       "      <td>4</td>\n",
       "      <td>978301398</td>\n",
       "      <td>F</td>\n",
       "      <td>1</td>\n",
       "      <td>10</td>\n",
       "      <td>48067</td>\n",
       "    </tr>\n",
       "  </tbody>\n",
       "</table>\n",
       "</div>"
      ],
      "text/plain": [
       "   MovieID                                      Title  \\\n",
       "0        1                           Toy Story (1995)   \n",
       "1       48                          Pocahontas (1995)   \n",
       "2      150                           Apollo 13 (1995)   \n",
       "3      260  Star Wars: Episode IV - A New Hope (1977)   \n",
       "4      527                    Schindler's List (1993)   \n",
       "5      531                  Secret Garden, The (1993)   \n",
       "6      588                             Aladdin (1992)   \n",
       "7      594     Snow White and the Seven Dwarfs (1937)   \n",
       "8      595                Beauty and the Beast (1991)   \n",
       "9      608                               Fargo (1996)   \n",
       "\n",
       "                                 Genres  UserID  Rating  Timestamp Gender  \\\n",
       "0           Animation|Children's|Comedy       1       5  978824268      F   \n",
       "1  Animation|Children's|Musical|Romance       1       5  978824351      F   \n",
       "2                                 Drama       1       5  978301777      F   \n",
       "3       Action|Adventure|Fantasy|Sci-Fi       1       4  978300760      F   \n",
       "4                             Drama|War       1       5  978824195      F   \n",
       "5                      Children's|Drama       1       4  978302149      F   \n",
       "6   Animation|Children's|Comedy|Musical       1       4  978824268      F   \n",
       "7          Animation|Children's|Musical       1       4  978302268      F   \n",
       "8          Animation|Children's|Musical       1       5  978824268      F   \n",
       "9                  Crime|Drama|Thriller       1       4  978301398      F   \n",
       "\n",
       "   Age  Occupation Zip-code  \n",
       "0    1          10    48067  \n",
       "1    1          10    48067  \n",
       "2    1          10    48067  \n",
       "3    1          10    48067  \n",
       "4    1          10    48067  \n",
       "5    1          10    48067  \n",
       "6    1          10    48067  \n",
       "7    1          10    48067  \n",
       "8    1          10    48067  \n",
       "9    1          10    48067  "
      ]
     },
     "execution_count": 25,
     "metadata": {},
     "output_type": "execute_result"
    }
   ],
   "source": [
    "# Merge the data across the 3 files\n",
    "tmpDS = pd.merge(movies, ratings, on='MovieID')\n",
    "finalDF = pd.merge(tmpDS, users, on='UserID')\n",
    "finalDF.head(10)"
   ]
  },
  {
   "cell_type": "code",
   "execution_count": 26,
   "metadata": {},
   "outputs": [
    {
     "name": "stdout",
     "output_type": "stream",
     "text": [
      "<class 'pandas.core.frame.DataFrame'>\n",
      "Int64Index: 1000209 entries, 0 to 1000208\n",
      "Data columns (total 10 columns):\n",
      " #   Column      Non-Null Count    Dtype \n",
      "---  ------      --------------    ----- \n",
      " 0   MovieID     1000209 non-null  int64 \n",
      " 1   Title       1000209 non-null  object\n",
      " 2   Genres      1000209 non-null  object\n",
      " 3   UserID      1000209 non-null  int64 \n",
      " 4   Rating      1000209 non-null  int64 \n",
      " 5   Timestamp   1000209 non-null  int64 \n",
      " 6   Gender      1000209 non-null  object\n",
      " 7   Age         1000209 non-null  int64 \n",
      " 8   Occupation  1000209 non-null  int64 \n",
      " 9   Zip-code    1000209 non-null  object\n",
      "dtypes: int64(6), object(4)\n",
      "memory usage: 83.9+ MB\n"
     ]
    }
   ],
   "source": [
    "# Display summarised data re dataframe\n",
    "finalDF.info()"
   ]
  },
  {
   "cell_type": "raw",
   "metadata": {},
   "source": [
    "Data volume: 1 000 209 rows\n",
    "Data columns: 10 columns \n",
    "Data types: int (6), object(4)\n",
    "\n",
    "MovieID – numeric count of the number of movies, range between 1 and 3952\n",
    "Title – movie title (and year)\n",
    "Genres – classification of movie type\n",
    "User Id – numeric assigned to the user, range between 1 & 6040\n",
    "Rating – categorical rating of a movie, range from 1 to 5\n",
    "Timestamp – measured in seconds\n",
    "Gender – male or female\n",
    "Age – age of the user\n",
    "Occupation – occupation of the user\n",
    "Zip Code – postal/ area code of the user\n"
   ]
  },
  {
   "cell_type": "markdown",
   "metadata": {},
   "source": [
    "# 3. Missing Data"
   ]
  },
  {
   "cell_type": "raw",
   "metadata": {},
   "source": [
    "Using the various algos we can see below that there is no missing data across the generated DF."
   ]
  },
  {
   "cell_type": "code",
   "execution_count": 27,
   "metadata": {},
   "outputs": [
    {
     "data": {
      "text/plain": [
       "<AxesSubplot:>"
      ]
     },
     "execution_count": 27,
     "metadata": {},
     "output_type": "execute_result"
    },
    {
     "data": {
      "image/png": "[encoded data removed]",
      "text/plain": [
       "<Figure size 720x144 with 2 Axes>"
      ]
     },
     "metadata": {
      "needs_background": "light"
     },
     "output_type": "display_data"
    }
   ],
   "source": [
    "# Visualise missing data\n",
    "missingno.matrix(finalDF, figsize = (10,2))"
   ]
  },
  {
   "cell_type": "code",
   "execution_count": 28,
   "metadata": {},
   "outputs": [
    {
     "data": {
      "text/plain": [
       "MovieID       0\n",
       "Title         0\n",
       "Genres        0\n",
       "UserID        0\n",
       "Rating        0\n",
       "Timestamp     0\n",
       "Gender        0\n",
       "Age           0\n",
       "Occupation    0\n",
       "Zip-code      0\n",
       "dtype: int64"
      ]
     },
     "execution_count": 28,
     "metadata": {},
     "output_type": "execute_result"
    }
   ],
   "source": [
    "# Number of missing data points per column\n",
    "missing_values_count = finalDF.isnull().sum()\n",
    "\n",
    "# The no of missing points in the columns\n",
    "missing_values_count[0:11]"
   ]
  },
  {
   "cell_type": "markdown",
   "metadata": {},
   "source": [
    "# 4. Data Stories and Visualisations"
   ]
  },
  {
   "cell_type": "raw",
   "metadata": {},
   "source": [
    "1. User Age Histogram"
   ]
  },
  {
   "cell_type": "code",
   "execution_count": 29,
   "metadata": {},
   "outputs": [
    {
     "data": {
      "text/plain": [
       "Text(0.5, 1.0, 'User Age Histogram')"
      ]
     },
     "execution_count": 29,
     "metadata": {},
     "output_type": "execute_result"
    },
    {
     "data": {
      "image/png": "[encoded data removed]",
      "text/plain": [
       "<Figure size 432x288 with 1 Axes>"
      ]
     },
     "metadata": {
      "needs_background": "light"
     },
     "output_type": "display_data"
    }
   ],
   "source": [
    "# Seaborn plot of user age\n",
    "sns.distplot(users['Age'])\n",
    "plt.ylabel('Number of Viewers')\n",
    "plt.xlabel('Age')\n",
    "plt.title('User Age Histogram')"
   ]
  },
  {
   "cell_type": "raw",
   "metadata": {},
   "source": [
    "The viewer age is highest in the 25-27 age group and ranges mostly between 18 years old to 34/35 years of age. This could be an opportunity to market promotions to ages not being attracted at this point to expand the user base. It also assists in retaining the current age group to ensure that we are catering in genres and age group. "
   ]
  },
  {
   "cell_type": "raw",
   "metadata": {},
   "source": [
    "2. Overall Rating by Viewers"
   ]
  },
  {
   "cell_type": "code",
   "execution_count": 30,
   "metadata": {},
   "outputs": [
    {
     "name": "stdout",
     "output_type": "stream",
     "text": [
      "Rating\n",
      "1     56174\n",
      "2    107557\n",
      "3    261197\n",
      "4    348971\n",
      "5    226310\n",
      "Name: UserID, dtype: int64\n"
     ]
    },
    {
     "data": {
      "text/plain": [
       "Text(0.5, 1.0, 'Overall Rating by Viewers')"
      ]
     },
     "execution_count": 30,
     "metadata": {},
     "output_type": "execute_result"
    },
    {
     "data": {
      "image/png": "[encoded data removed]",
      "text/plain": [
       "<Figure size 432x288 with 1 Axes>"
      ]
     },
     "metadata": {},
     "output_type": "display_data"
    }
   ],
   "source": [
    "# No of viewers per rating score\n",
    "print(finalDF.groupby('Rating')['UserID'].count())\n",
    "finalDF.groupby('Rating')['UserID'].count().plot(kind=\"pie\")\n",
    "plt.title('Overall Rating by Viewers')"
   ]
  },
  {
   "cell_type": "raw",
   "metadata": {},
   "source": [
    "The highest ratings are number 3 and 4, containing the bulk of the ratings. So generally, users seem to be quite happy with the movies that they have watched. Not seeing major dissatisfactions levels yet."
   ]
  },
  {
   "cell_type": "raw",
   "metadata": {},
   "source": [
    "3. Overall Rating by Viewers"
   ]
  },
  {
   "cell_type": "code",
   "execution_count": 31,
   "metadata": {},
   "outputs": [
    {
     "data": {
      "text/plain": [
       "Text(0.5, 1.0, 'Overall Rating by Viewers')"
      ]
     },
     "execution_count": 31,
     "metadata": {},
     "output_type": "execute_result"
    },
    {
     "data": {
      "image/png": "[encoded data removed]",
      "text/plain": [
       "<Figure size 504x360 with 1 Axes>"
      ]
     },
     "metadata": {
      "needs_background": "light"
     },
     "output_type": "display_data"
    }
   ],
   "source": [
    "# Descending ratings by number of viewers/ users \n",
    "finalDF['Rating'].value_counts().plot(kind='bar', alpha=0.7, figsize=(7,5))\n",
    "plt.ylabel('No of Viewers')\n",
    "plt.xlabel('Rating')\n",
    "plt.title('Overall Rating by Viewers')"
   ]
  },
  {
   "cell_type": "raw",
   "metadata": {},
   "source": [
    "This is represented in a bar graph and we can see similarly that the highest rating is 4 and then followed by rating 3 and then rating 5. The summary stats also show the ratings mean are high. The questions we ask then is how to ensure that we keep these ratings up while still growing the market in future years?"
   ]
  },
  {
   "cell_type": "raw",
   "metadata": {},
   "source": [
    "4. Similar movies (sequels performance) example “Toy Story”"
   ]
  },
  {
   "cell_type": "code",
   "execution_count": 32,
   "metadata": {},
   "outputs": [
    {
     "data": {
      "text/html": [
       "<div>\n",
       "<style scoped>\n",
       "    .dataframe tbody tr th:only-of-type {\n",
       "        vertical-align: middle;\n",
       "    }\n",
       "\n",
       "    .dataframe tbody tr th {\n",
       "        vertical-align: top;\n",
       "    }\n",
       "\n",
       "    .dataframe thead th {\n",
       "        text-align: right;\n",
       "    }\n",
       "</style>\n",
       "<table border=\"1\" class=\"dataframe\">\n",
       "  <thead>\n",
       "    <tr style=\"text-align: right;\">\n",
       "      <th></th>\n",
       "      <th>MovieID</th>\n",
       "      <th>Title</th>\n",
       "      <th>Genres</th>\n",
       "    </tr>\n",
       "  </thead>\n",
       "  <tbody>\n",
       "    <tr>\n",
       "      <th>0</th>\n",
       "      <td>1</td>\n",
       "      <td>Toy Story (1995)</td>\n",
       "      <td>Animation|Children's|Comedy</td>\n",
       "    </tr>\n",
       "    <tr>\n",
       "      <th>3045</th>\n",
       "      <td>3114</td>\n",
       "      <td>Toy Story 2 (1999)</td>\n",
       "      <td>Animation|Children's|Comedy</td>\n",
       "    </tr>\n",
       "  </tbody>\n",
       "</table>\n",
       "</div>"
      ],
      "text/plain": [
       "      MovieID               Title                       Genres\n",
       "0           1    Toy Story (1995)  Animation|Children's|Comedy\n",
       "3045     3114  Toy Story 2 (1999)  Animation|Children's|Comedy"
      ]
     },
     "execution_count": 32,
     "metadata": {},
     "output_type": "execute_result"
    }
   ],
   "source": [
    "# Similar movies to assist sequel identification\n",
    "movies[movies.Title.str.contains(\"Toy Story\")]"
   ]
  },
  {
   "cell_type": "raw",
   "metadata": {},
   "source": [
    "Using an example of one movie, we can group movies and their sequel. By doing this we can understand the performance of the movie parts/ sequels and understand performance for a part or group."
   ]
  },
  {
   "cell_type": "raw",
   "metadata": {},
   "source": [
    "5. Ratings by Movie Title (\"Toy Story\")"
   ]
  },
  {
   "cell_type": "code",
   "execution_count": 33,
   "metadata": {
    "scrolled": false
   },
   "outputs": [
    {
     "name": "stdout",
     "output_type": "stream",
     "text": [
      "Rating\n",
      "1     16\n",
      "2     61\n",
      "3    345\n",
      "4    835\n",
      "5    820\n",
      "Name: UserID, dtype: int64\n"
     ]
    },
    {
     "data": {
      "text/plain": [
       "Text(0.5, 1.0, 'Ratings by Movie Title (Toy Story)')"
      ]
     },
     "execution_count": 33,
     "metadata": {},
     "output_type": "execute_result"
    },
    {
     "data": {
      "image/png": "[encoded data removed]",
      "text/plain": [
       "<Figure size 432x288 with 1 Axes>"
      ]
     },
     "metadata": {},
     "output_type": "display_data"
    }
   ],
   "source": [
    "# groupby ratings per movie title level\n",
    "print(finalDF[finalDF.Title == \"Toy Story (1995)\"].groupby(\"Rating\")['UserID'].count())\n",
    "finalDF[finalDF.Title == \"Toy Story (1995)\"].groupby(\"Rating\")['UserID'].count().plot(kind=\"pie\")\n",
    "plt.title('Ratings by Movie Title (Toy Story)')"
   ]
  },
  {
   "cell_type": "raw",
   "metadata": {},
   "source": [
    "Most users rated Toy Story between rating 4 & 5. It is a very highly rated movie. "
   ]
  },
  {
   "cell_type": "raw",
   "metadata": {},
   "source": [
    "6. Viewership by Age for a Movie Title (“Toy Story”)"
   ]
  },
  {
   "cell_type": "code",
   "execution_count": 37,
   "metadata": {},
   "outputs": [
    {
     "name": "stdout",
     "output_type": "stream",
     "text": [
      "Age\n",
      "1     112\n",
      "18    448\n",
      "25    790\n",
      "35    423\n",
      "45    143\n",
      "50    108\n",
      "56     53\n",
      "Name: Age, dtype: int64\n"
     ]
    }
   ],
   "source": [
    "# Number of viewers at different age levels per title\n",
    "print(finalDF[finalDF[\"Title\"] == \"Toy Story (1995)\"].groupby(by=[\"Age\"])['Age'].count())"
   ]
  },
  {
   "cell_type": "raw",
   "metadata": {},
   "source": [
    "Many of the viewers of the Toy Story movie are in the age group of 25 years of age. This shows that the genre, although aimed at children do attract parents to watch with them and therefore consist of marketing opportunities for both parents and children."
   ]
  },
  {
   "cell_type": "code",
   "execution_count": 38,
   "metadata": {},
   "outputs": [
    {
     "data": {
      "text/plain": [
       "Text(0, 0.5, 'Number of Viewers')"
      ]
     },
     "execution_count": 38,
     "metadata": {},
     "output_type": "execute_result"
    },
    {
     "data": {
      "image/png": "[encoded data removed]",
      "text/plain": [
       "<Figure size 432x288 with 1 Axes>"
      ]
     },
     "metadata": {
      "needs_background": "light"
     },
     "output_type": "display_data"
    }
   ],
   "source": [
    "# Visualise viewers age levels per movie title\n",
    "finalDF[finalDF[\"Title\"] == \"Toy Story (1995)\"].groupby(by=[\"Age\"])['Age'].count().plot(kind=\"bar\")\n",
    "plt.title('Viewership by Age for a Movie Title (Toy Story)')\n",
    "plt.ylabel('Number of Viewers')"
   ]
  },
  {
   "cell_type": "raw",
   "metadata": {},
   "source": [
    "7. The Top 25 movies by Viewership Rating"
   ]
  },
  {
   "cell_type": "code",
   "execution_count": 39,
   "metadata": {},
   "outputs": [
    {
     "name": "stdout",
     "output_type": "stream",
     "text": [
      "Title\n",
      "American Beauty (1999)                                   3428\n",
      "Star Wars: Episode IV - A New Hope (1977)                2991\n",
      "Star Wars: Episode V - The Empire Strikes Back (1980)    2990\n",
      "Star Wars: Episode VI - Return of the Jedi (1983)        2883\n",
      "Jurassic Park (1993)                                     2672\n",
      "Saving Private Ryan (1998)                               2653\n",
      "Terminator 2: Judgment Day (1991)                        2649\n",
      "Matrix, The (1999)                                       2590\n",
      "Back to the Future (1985)                                2583\n",
      "Silence of the Lambs, The (1991)                         2578\n",
      "Men in Black (1997)                                      2538\n",
      "Raiders of the Lost Ark (1981)                           2514\n",
      "Fargo (1996)                                             2513\n",
      "Sixth Sense, The (1999)                                  2459\n",
      "Braveheart (1995)                                        2443\n",
      "Shakespeare in Love (1998)                               2369\n",
      "Princess Bride, The (1987)                               2318\n",
      "Schindler's List (1993)                                  2304\n",
      "L.A. Confidential (1997)                                 2288\n",
      "Groundhog Day (1993)                                     2278\n",
      "E.T. the Extra-Terrestrial (1982)                        2269\n",
      "Star Wars: Episode I - The Phantom Menace (1999)         2250\n",
      "Being John Malkovich (1999)                              2241\n",
      "Shawshank Redemption, The (1994)                         2227\n",
      "Godfather, The (1972)                                    2223\n",
      "Name: Rating, dtype: int64\n"
     ]
    }
   ],
   "source": [
    "# nlargest - sorted in descending order displaying first 25\n",
    "title = finalDF.groupby('Title')\n",
    "print(title['Rating'].count().nlargest(25))"
   ]
  },
  {
   "cell_type": "raw",
   "metadata": {},
   "source": [
    "The highest rated movie is American Beauty produced in 1999, followed by the latter half of the Star Wars sequel 4, 5, 6. and then Jurassic Park. The genres science fiction is highly rated and could be where the opportunities to continue with Science Fiction sequel type movies. It would be interesting to investigate why the later half of Star Wars did better than 1, 2, 3.  "
   ]
  },
  {
   "cell_type": "code",
   "execution_count": 40,
   "metadata": {},
   "outputs": [
    {
     "data": {
      "text/plain": [
       "Text(0.5, 1.0, 'Top 25 Movies by Viewership Rating')"
      ]
     },
     "execution_count": 40,
     "metadata": {},
     "output_type": "execute_result"
    },
    {
     "data": {
      "image/png": "[encoded data removed]",
      "text/plain": [
       "<Figure size 432x288 with 1 Axes>"
      ]
     },
     "metadata": {
      "needs_background": "light"
     },
     "output_type": "display_data"
    }
   ],
   "source": [
    "# Visualise the top 25 from data above\n",
    "title['Rating'].count().nlargest(25).plot(kind=\"bar\")\n",
    "plt.xlabel('Movie Title')\n",
    "plt.ylabel('Number of Viewers')\n",
    "plt.title('Top 25 Movies by Viewership Rating')"
   ]
  },
  {
   "cell_type": "raw",
   "metadata": {},
   "source": [
    "8. Ratings at a Viewer level (User ID = 2696)"
   ]
  },
  {
   "cell_type": "code",
   "execution_count": 41,
   "metadata": {},
   "outputs": [
    {
     "name": "stdout",
     "output_type": "stream",
     "text": [
      "Rating\n",
      "1     2\n",
      "2     3\n",
      "3     3\n",
      "4    11\n",
      "5     1\n",
      "Name: MovieID, dtype: int64\n"
     ]
    }
   ],
   "source": [
    "# groupby Ratings by Movie Title\n",
    "print(finalDF[finalDF.UserID == 2696].groupby(\"Rating\")['MovieID'].count())"
   ]
  },
  {
   "cell_type": "raw",
   "metadata": {},
   "source": [
    "9. Visualise Ratings at a Viewer level "
   ]
  },
  {
   "cell_type": "code",
   "execution_count": 42,
   "metadata": {},
   "outputs": [
    {
     "data": {
      "text/plain": [
       "Text(0.5, 1.0, 'Visualise Ratings at a Viewer level')"
      ]
     },
     "execution_count": 42,
     "metadata": {},
     "output_type": "execute_result"
    },
    {
     "data": {
      "image/png": "[encoded data removed]",
      "text/plain": [
       "<Figure size 432x288 with 1 Axes>"
      ]
     },
     "metadata": {},
     "output_type": "display_data"
    }
   ],
   "source": [
    "# Visualise groupby at a user level UserID = 2696\n",
    "finalDF[finalDF.UserID == 2696].groupby(\"Rating\")['MovieID'].count().plot(kind='pie')\n",
    "plt.title('Visualise Ratings at a Viewer level')"
   ]
  },
  {
   "cell_type": "raw",
   "metadata": {},
   "source": [
    "At a user level we can gauge the type of movie genres the customer enjoyed and therefore able to make recommendations around similar genres. User level detail can lead to more movies being watched and enjoyed, and potential for higher NPS scores from customer satisfaction. Also, more insights for the movie production industry on whom to market, including cinema insight for their websites."
   ]
  },
  {
   "cell_type": "code",
   "execution_count": 43,
   "metadata": {},
   "outputs": [
    {
     "name": "stdout",
     "output_type": "stream",
     "text": [
      "<class 'pandas.core.frame.DataFrame'>\n",
      "Int64Index: 500 entries, 0 to 499\n",
      "Data columns (total 4 columns):\n",
      " #   Column      Non-Null Count  Dtype\n",
      "---  ------      --------------  -----\n",
      " 0   MovieID     500 non-null    int64\n",
      " 1   Age         500 non-null    int64\n",
      " 2   Occupation  500 non-null    int64\n",
      " 3   Rating      500 non-null    int64\n",
      "dtypes: int64(4)\n",
      "memory usage: 19.5 KB\n"
     ]
    }
   ],
   "source": [
    "# Dataset creation\n",
    "dataset = finalDF.iloc[:, [0,7,8,4]].head(500)\n",
    "dataset.info()"
   ]
  },
  {
   "cell_type": "code",
   "execution_count": 44,
   "metadata": {},
   "outputs": [],
   "source": [
    "# Create features and labels \n",
    "# To be able to start to build ML models for recommendations\n",
    "features = dataset.iloc[:, [0,1,2]].values\n",
    "label = dataset.iloc[:, 3].values"
   ]
  },
  {
   "cell_type": "code",
   "execution_count": null,
   "metadata": {},
   "outputs": [],
   "source": []
  }
 ],
 "metadata": {
  "kernelspec": {
   "display_name": "Python 3",
   "language": "python",
   "name": "python3"
  },
  "language_info": {
   "codemirror_mode": {
    "name": "ipython",
    "version": 3
   },
   "file_extension": ".py",
   "mimetype": "text/x-python",
   "name": "python",
   "nbconvert_exporter": "python",
   "pygments_lexer": "ipython3",
   "version": "3.7.6"
  }
 },
 "nbformat": 4,
 "nbformat_minor": 4
}
